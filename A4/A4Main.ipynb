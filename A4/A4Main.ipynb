{
 "cells": [
  {
   "cell_type": "code",
   "execution_count": null,
   "metadata": {},
   "outputs": [],
   "source": [
    "import streamlit as st\n",
    "from streamlit_jupyter import StreamlitPatcher, tqdm\n",
    "\n",
    "StreamlitPatcher().jupyter()  # register streamlit with jupyter-compatible wrappers"
   ]
  },
  {
   "cell_type": "code",
   "execution_count": 1,
   "metadata": {},
   "outputs": [
    {
     "ename": "ModuleNotFoundError",
     "evalue": "No module named 'streamlit'",
     "output_type": "error",
     "traceback": [
      "\u001b[1;31m---------------------------------------------------------------------------\u001b[0m",
      "\u001b[1;31mModuleNotFoundError\u001b[0m                       Traceback (most recent call last)",
      "Cell \u001b[1;32mIn[1], line 8\u001b[0m\n\u001b[0;32m      2\u001b[0m \u001b[39m'''\u001b[39;00m\n\u001b[0;32m      3\u001b[0m \u001b[39mThis is the main page including all elements (dashboard, map, data preparation) for the final project\u001b[39;00m\n\u001b[0;32m      4\u001b[0m \u001b[39m'''\u001b[39;00m\n\u001b[0;32m      5\u001b[0m \u001b[39m## import relevant modules\u001b[39;00m\n\u001b[0;32m      6\u001b[0m \u001b[39m##### This is not a real notebook, but I will use cells to simulate the functionality of notebooks. \u001b[39;00m\n\u001b[0;32m      7\u001b[0m \u001b[39m#%% \u001b[39;00m\n\u001b[1;32m----> 8\u001b[0m \u001b[39mimport\u001b[39;00m \u001b[39mstreamlit\u001b[39;00m \u001b[39mas\u001b[39;00m \u001b[39mst\u001b[39;00m\n\u001b[0;32m      9\u001b[0m \u001b[39mimport\u001b[39;00m \u001b[39mfolium\u001b[39;00m\n\u001b[0;32m     11\u001b[0m \u001b[39m# import local python files that are used for further \u001b[39;00m\n",
      "\u001b[1;31mModuleNotFoundError\u001b[0m: No module named 'streamlit'"
     ]
    }
   ],
   "source": [
    "### Main Streamlit Page\n",
    "'''\n",
    "This is the main page including all elements (dashboard, map, data preparation) for the final project\n",
    "'''\n",
    "## import relevant modules\n",
    "##### This is not a real notebook, but I will use cells to simulate the functionality of notebooks. \n",
    "#%% \n",
    "import streamlit as st\n",
    "import folium\n",
    "\n",
    "# import local python files that are used for further \n",
    "import dashboard\n",
    "import preprocess\n",
    "import os\n",
    "\n",
    "###---------------\n",
    "# preprocess / get data\n",
    "filePath = os.path()\n",
    "print(filePath)\n",
    "dataPS = preprocess.getPowerStationData(file = \"Assignment\\A4\\data\\global_power_plant_database.csv\")\n",
    "\n",
    "# show data - only prelim\n",
    "st.dataframe(dataPS)\n"
   ]
  },
  {
   "attachments": {},
   "cell_type": "markdown",
   "metadata": {},
   "source": [
    "## Setup of page\n",
    "Now we create the actual streamlit page layout: a sidebar, the main page and the map and dashboard. Right now, the latter two are just dummy functions creating a simple map of Australia (without powerstations) and a plain text saying \"here will be a dashboard\". :) "
   ]
  },
  {
   "cell_type": "code",
   "execution_count": null,
   "metadata": {},
   "outputs": [],
   "source": [
    "\n",
    "# this set-ups the sidebar\n",
    "dashboard.sidebar()\n",
    "\n",
    "# this sets up the main page (above map)\n",
    "dashboard.titlePage()\n",
    "\n",
    "# now we create the map based on information/filter obtained in sidebar\n",
    "dashboard.map()\n",
    "\n",
    "# last, this includeds the statistics and plots below the map in the dashboard\n",
    "dashboard.dashboard()"
   ]
  }
 ],
 "metadata": {
  "kernelspec": {
   "display_name": ".venv",
   "language": "python",
   "name": "python3"
  },
  "language_info": {
   "codemirror_mode": {
    "name": "ipython",
    "version": 3
   },
   "file_extension": ".py",
   "mimetype": "text/x-python",
   "name": "python",
   "nbconvert_exporter": "python",
   "pygments_lexer": "ipython3",
   "version": "3.11.3"
  },
  "orig_nbformat": 4
 },
 "nbformat": 4,
 "nbformat_minor": 2
}
