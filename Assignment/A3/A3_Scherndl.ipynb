{
 "cells": [
  {
   "attachments": {},
   "cell_type": "markdown",
   "metadata": {},
   "source": [
    "# A3: Obtaining and Plotting Streets from Open Street Map\n",
    "This notebook demonstrates how to obtain edges from open street map using a filter and plotting the resulting streets in different colors depending on the type of street. \n",
    "I will use something similar in the final project to obtain different powerlines. As this was only finalised on Monday (=today), this is a little bit different than what we will later use. However, it is all about the process... :-)"
   ]
  },
  {
   "cell_type": "code",
   "execution_count": null,
   "metadata": {},
   "outputs": [],
   "source": [
    "#%% import necessary modules\n",
    "import osmnx as ox\n",
    "#import folium # not needed because I decided to use the osmnx function (which relies on folium though)\n",
    "from sklearn.neighbors import BallTree\n",
    "import numpy as np\n",
    "import pandas as pd\n"
   ]
  },
  {
   "attachments": {},
   "cell_type": "markdown",
   "metadata": {},
   "source": [
    "## Defining helper functions\n",
    "This section defines two helper functions that may be used later. Could be also put into a helper-filer which could then be easily sourced. "
   ]
  },
  {
   "cell_type": "code",
   "execution_count": null,
   "metadata": {},
   "outputs": [],
   "source": [
    "#%% Define 2 helper functions to use later\n",
    "# functions to get edge IDs that do not match passed list of highways (hwys)\n",
    "def find_edges(G, hwys):\n",
    "    edges = []  # initialize an empty list that is filled \n",
    "     \n",
    "    for u, v, k, data in G.edges(keys = True, data = 'highway'):\n",
    "        # there are 2 checks: 1) check1: \n",
    "        check1 = isinstance(data, str) and data not in hwys\n",
    "        check2 = isinstance(data, list) and all([d not in hwys for d in data])\n",
    "        # if either check1 or check2 is true, add the edge to our object for later plotting!\n",
    "        if check1 or check2:\n",
    "            edges.append((u, v, k))\n",
    "    return set(edges) # using set to only return unique items\n",
    "\n",
    "# function to get the nearest edge based on given longitude/latitude\n",
    "def get_nearest(src_points, candidates, k_neighbors=1):\n",
    "    \"\"\"Find nearest neighbors for all source points from a set of candidate points\"\"\"\n",
    "\n",
    "    # Create tree from the candidate points\n",
    "    tree = BallTree(candidates, leaf_size=15, metric='haversine')\n",
    "\n",
    "    # Find closest points and distances\n",
    "    distances, indices = tree.query(src_points, k=k_neighbors)\n",
    "\n",
    "    # Transpose to get distances and indices into arrays\n",
    "    distances = distances.transpose()\n",
    "    indices = indices.transpose()\n",
    "\n",
    "    # Get closest indices and distances (i.e. array at index 0)\n",
    "    # note: for the second closest points, you would take index 1, etc.\n",
    "    closest = indices[0]\n",
    "    closest_dist = distances[0]\n",
    "\n",
    "    # Return indices and distances\n",
    "    return (closest, closest_dist)"
   ]
  },
  {
   "attachments": {},
   "cell_type": "markdown",
   "metadata": {},
   "source": [
    "## Getting Data\n",
    "I define Salzburg as the area of interest and also define the filter string and the colors for the different road types for later use. "
   ]
  },
  {
   "cell_type": "code",
   "execution_count": null,
   "metadata": {},
   "outputs": [],
   "source": [
    "#%% Start the actual getting data and plotting\n",
    "# define overall place of data\n",
    "place = 'salzburg, austria'\n",
    "\n",
    "# define filter: use only highways (=roads) that have the following attribute/value: \n",
    "# highway that is primary OR secondary OR ....\n",
    "filter = '[\"highway\"~\"primary|secondary|tertiary|residential|cycleway|living street|pedestrian\"]'\n",
    "\n",
    "# define the colors to use for different edge types\n",
    "hwy_colors = {'primary': 'skyblue',\n",
    "              'secondary': 'grey',\n",
    "              'tertiary':  'green', \n",
    "              'residential': 'paleturquoise',\n",
    "              'cycleway': 'orange',\n",
    "              'living street': 'lightgreen',\n",
    "              'pedestrian': 'lightskyblue'}\n",
    "\n",
    "#%% Creating the graph\n",
    "##### make the graph object by getting the data using the given filter\n",
    "\n",
    "G = ox.graph_from_place(place, network_type='bike', \n",
    "                        custom_filter = filter)\n"
   ]
  },
  {
   "attachments": {},
   "cell_type": "markdown",
   "metadata": {},
   "source": [
    "## Manipulating the data and prepare for plotting\n",
    "In this section I plot the map after checking each node what type of color they should obtain. "
   ]
  },
  {
   "cell_type": "code",
   "execution_count": null,
   "metadata": {},
   "outputs": [],
   "source": [
    "\n",
    "# first plot all edges that do not appear in hwy_colors's types\n",
    "G_tmp = G.copy()\n",
    "G_tmp.remove_edges_from(G.edges - find_edges(G, hwy_colors.keys()))\n",
    "m = ox.plot_graph_folium(G_tmp, popup_attribute='highway', weight=5, color='black')\n",
    "\n",
    "# then plot each edge type in hwy_colors one at a time\n",
    "for hwy, color in hwy_colors.items():\n",
    "    G_tmp = G.copy()\n",
    "    G_tmp.remove_edges_from(find_edges(G_tmp, [hwy]))\n",
    "    \n",
    "    # if G has some edges, then plot it using plot_graph_folium\n",
    "    if G_tmp.edges:\n",
    "        m = ox.plot_graph_folium(G_tmp,\n",
    "                                 graph_map = m,\n",
    "                                 popup_attribute = 'highway',\n",
    "                                 weight = 5,\n",
    "                                 color = color)\n",
    "        \n",
    "#%% finally print the result (may take some time)\n",
    "print(\"Now creating the map!\")\n",
    "m\n"
   ]
  }
 ],
 "metadata": {
  "language_info": {
   "name": "python"
  },
  "orig_nbformat": 4
 },
 "nbformat": 4,
 "nbformat_minor": 2
}
